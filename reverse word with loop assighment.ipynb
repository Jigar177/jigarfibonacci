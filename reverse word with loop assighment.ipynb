{
 "cells": [
  {
   "cell_type": "markdown",
   "id": "ec2d3eaa",
   "metadata": {},
   "source": [
    "## Reverse words "
   ]
  },
  {
   "cell_type": "code",
   "execution_count": 1,
   "id": "1a7a0f0d",
   "metadata": {},
   "outputs": [],
   "source": [
    "def reverse(string):\n",
    "    reversed_string = \"\"\n",
    "    for i in string:\n",
    "        reversed_string = i+reversed_string\n",
    "    print(\"reversed string is:\",reversed_string)    "
   ]
  },
  {
   "cell_type": "code",
   "execution_count": null,
   "id": "4bd63761",
   "metadata": {},
   "outputs": [],
   "source": [
    "string = input(\"JIGAR:\")\n",
    "print(\"JIGAR\",string)\n",
    "reversed(string)\n"
   ]
  },
  {
   "cell_type": "code",
   "execution_count": null,
   "id": "e295a556",
   "metadata": {},
   "outputs": [],
   "source": []
  },
  {
   "cell_type": "code",
   "execution_count": null,
   "id": "a5b80afd",
   "metadata": {},
   "outputs": [],
   "source": []
  },
  {
   "cell_type": "code",
   "execution_count": 1,
   "id": "90767f2a",
   "metadata": {},
   "outputs": [
    {
     "name": "stdout",
     "output_type": "stream",
     "text": [
      "The original string is:  JavaTpoint\n",
      "The reverse string is tniopTavaJ\n"
     ]
    }
   ],
   "source": [
    "def reverse_string(str):  \n",
    "    str1 = \"\"   # Declaring empty string to store the reversed string  \n",
    "    for i in str:  \n",
    "        str1 = i + str1  \n",
    "    return str1    # It will return the reverse string to the caller function  \n",
    "     \n",
    "str = \"JavaTpoint\"    # Given String       \n",
    "print(\"The original string is: \",str)  \n",
    "print(\"The reverse string is\",reverse_string(str)) # Function call  "
   ]
  },
  {
   "cell_type": "code",
   "execution_count": null,
   "id": "cc3bea34",
   "metadata": {},
   "outputs": [],
   "source": []
  },
  {
   "cell_type": "code",
   "execution_count": null,
   "id": "878b5b7c",
   "metadata": {},
   "outputs": [],
   "source": []
  },
  {
   "cell_type": "code",
   "execution_count": null,
   "id": "fc233aea",
   "metadata": {},
   "outputs": [],
   "source": []
  },
  {
   "cell_type": "code",
   "execution_count": null,
   "id": "89068b89",
   "metadata": {},
   "outputs": [],
   "source": []
  },
  {
   "cell_type": "code",
   "execution_count": null,
   "id": "bde2374b",
   "metadata": {},
   "outputs": [],
   "source": []
  }
 ],
 "metadata": {
  "kernelspec": {
   "display_name": "Python 3 (ipykernel)",
   "language": "python",
   "name": "python3"
  },
  "language_info": {
   "codemirror_mode": {
    "name": "ipython",
    "version": 3
   },
   "file_extension": ".py",
   "mimetype": "text/x-python",
   "name": "python",
   "nbconvert_exporter": "python",
   "pygments_lexer": "ipython3",
   "version": "3.10.2"
  }
 },
 "nbformat": 4,
 "nbformat_minor": 5
}
